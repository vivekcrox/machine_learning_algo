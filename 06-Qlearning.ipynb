{
 "cells": [
  {
   "cell_type": "code",
   "execution_count": 15,
   "id": "873e1c82",
   "metadata": {},
   "outputs": [],
   "source": [
    "import numpy as np\n",
    "\n",
    "# Define the environment\n",
    "num_states = 6\n",
    "num_actions = 2\n",
    "gamma = 0.8  # Discount factor\n",
    "alpha = 0.1  # Learning rate\n",
    "epsilon = 0.1  # Exploration-exploitation trade-off"
   ]
  },
  {
   "cell_type": "code",
   "execution_count": 16,
   "id": "afc19b55",
   "metadata": {},
   "outputs": [],
   "source": [
    "# Initialize Q-table\n",
    "q_table = np.zeros((num_states, num_actions))\n",
    "\n",
    "# Define the reward matrix\n",
    "rewards = np.array([\n",
    "    [-1, -1],\n",
    "    [-1, -1],\n",
    "    [-1, -1],\n",
    "    [-1, -1],\n",
    "    [-1, -1],\n",
    "    [-1, 10]  # Goal state\n",
    "])"
   ]
  },
  {
   "cell_type": "code",
   "execution_count": 17,
   "id": "69cbc481",
   "metadata": {},
   "outputs": [],
   "source": [
    "# Define the transition matrix\n",
    "transitions = np.array([\n",
    "    [1, 0],  # 0\n",
    "    [2, 1],  # 1\n",
    "    [3, 2],  # 2\n",
    "    [4, 3],  # 3\n",
    "    [5, 4],  # 4\n",
    "    [5, 5]   # 5 (goal state)\n",
    "])"
   ]
  },
  {
   "cell_type": "code",
   "execution_count": 18,
   "id": "283d5f55",
   "metadata": {},
   "outputs": [],
   "source": [
    "num_episodes = 1000\n",
    "\n",
    "for episode in range(num_episodes):\n",
    "    state = 0  # Initial state\n",
    "\n",
    "    while state != 5:  # Continue until the goal state is reached\n",
    "        # Exploration-exploitation trade-off\n",
    "        if np.random.rand() < epsilon:\n",
    "            action = np.random.choice(num_actions)\n",
    "        else:\n",
    "            action = np.argmax(q_table[state, :])\n",
    "\n",
    "        # Get the next state and reward\n",
    "        next_state, reward = transitions[state, action], rewards[state, action]\n",
    "\n",
    "        # Update Q-value using the Q-learning update rule\n",
    "        q_table[state, action] = q_table[state, action] + alpha * (reward + gamma * np.max(q_table[next_state, :]) - q_table[state, action])\n",
    "\n",
    "        # Move to the next state\n",
    "        state = next_state\n"
   ]
  },
  {
   "cell_type": "code",
   "execution_count": 19,
   "id": "d26bf071",
   "metadata": {},
   "outputs": [
    {
     "data": {
      "text/plain": [
       "array([[-3.3616    , -3.68561869],\n",
       "       [-2.952     , -3.35686254],\n",
       "       [-2.44      , -2.9498221 ],\n",
       "       [-1.8       , -2.43660959],\n",
       "       [-1.        , -1.7948587 ],\n",
       "       [ 0.        ,  0.        ]])"
      ]
     },
     "execution_count": 19,
     "metadata": {},
     "output_type": "execute_result"
    }
   ],
   "source": [
    "# Display the learned Q-table\n",
    "q_table"
   ]
  },
  {
   "cell_type": "code",
   "execution_count": null,
   "id": "ece688de",
   "metadata": {},
   "outputs": [],
   "source": []
  }
 ],
 "metadata": {
  "kernelspec": {
   "display_name": "Python 3 (ipykernel)",
   "language": "python",
   "name": "python3"
  },
  "language_info": {
   "codemirror_mode": {
    "name": "ipython",
    "version": 3
   },
   "file_extension": ".py",
   "mimetype": "text/x-python",
   "name": "python",
   "nbconvert_exporter": "python",
   "pygments_lexer": "ipython3",
   "version": "3.11.4"
  }
 },
 "nbformat": 4,
 "nbformat_minor": 5
}
