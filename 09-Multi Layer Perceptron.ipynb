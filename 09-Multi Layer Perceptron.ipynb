{
 "cells": [
  {
   "cell_type": "code",
   "execution_count": 1,
   "id": "fac33acb",
   "metadata": {},
   "outputs": [],
   "source": [
    "import numpy as np"
   ]
  },
  {
   "cell_type": "code",
   "execution_count": 3,
   "id": "8162cbc2",
   "metadata": {},
   "outputs": [],
   "source": [
    "def sigmoid(x):\n",
    "    return 1 / (1 + np.exp(-x))\n",
    "\n",
    "def sigmoid_derivative(x):\n",
    "    return x * (1 - x)\n",
    "\n",
    "def relu(x):\n",
    "    return np.maximum(0, x)\n",
    "def relu_derivative(x):\n",
    "    return np.where(x > 0, 1, 0)"
   ]
  },
  {
   "cell_type": "code",
   "execution_count": 10,
   "id": "2f0768c3",
   "metadata": {},
   "outputs": [],
   "source": [
    "class MLP:\n",
    "    def __init__(self, input_size, hidden_size, output_size):\n",
    "        self.input_size = input_size\n",
    "        self.hidden_size = hidden_size\n",
    "        self.output_size = output_size\n",
    "        \n",
    "        # Initialize weights and biases\n",
    "        self.weights_input_hidden = np.random.rand(input_size, hidden_size)\n",
    "        self.bias_hidden = np.zeros((1, hidden_size))\n",
    "        self.weights_hidden_output = np.random.rand(hidden_size, output_size)\n",
    "        self.bias_output = np.zeros((1, output_size))\n",
    "\n",
    "    def forward(self, inputs):\n",
    "        # Forward pass\n",
    "        self.hidden_input = np.dot(inputs, self.weights_input_hidden) + self.bias_hidden\n",
    "        self.hidden_output = relu(self.hidden_input)\n",
    "        self.final_input = np.dot(self.hidden_output, self.weights_hidden_output) + self.bias_output\n",
    "        self.final_output = sigmoid(self.final_input)\n",
    "        return self.final_output\n",
    "\n",
    "    def backward(self, inputs, targets, learning_rate):\n",
    "        # Backward pass\n",
    "        output_error = targets - self.final_output\n",
    "        output_delta = output_error * sigmoid_derivative(self.final_output)\n",
    "\n",
    "        hidden_error = output_delta.dot(self.weights_hidden_output.T)\n",
    "        hidden_delta = hidden_error * relu_derivative(self.hidden_output)\n",
    "\n",
    "        # Update weights and biases\n",
    "        self.weights_hidden_output += self.hidden_output.T.dot(output_delta) * learning_rate\n",
    "        self.bias_output += np.sum(output_delta, axis=0, keepdims=True) * learning_rate\n",
    "        self.weights_input_hidden += inputs.T.dot(hidden_delta) * learning_rate\n",
    "        self.bias_hidden += np.sum(hidden_delta, axis=0, keepdims=True) * learning_rate\n",
    "\n",
    "    def train(self, inputs, targets, epochs, learning_rate):\n",
    "        for epoch in range(epochs):\n",
    "            # Forward and backward pass for each training example\n",
    "            for input_data, target_data in zip(inputs, targets):\n",
    "                input_data = input_data.reshape(1, -1)\n",
    "                target_data = target_data.reshape(1, -1)\n",
    "\n",
    "                # Forward pass\n",
    "                output = self.forward(input_data)\n",
    "\n",
    "                # Backward pass\n",
    "                self.backward(input_data, target_data, learning_rate)\n",
    "\n",
    "            if (epoch + 1) % 100 == 0:\n",
    "                loss = np.mean(np.square(targets - self.predict(inputs)))\n",
    "                print(f'Epoch [{epoch+1}/{epochs}], Loss: {loss:.4f}')\n",
    "\n",
    "    def predict(self, inputs):\n",
    "        # Make predictions using the trained model\n",
    "        predictions = []\n",
    "        for input_data in inputs:\n",
    "            input_data = input_data.reshape(1, -1)\n",
    "            output = self.forward(input_data)\n",
    "            predictions.append(output.flatten())\n",
    "        return np.array(predictions)\n"
   ]
  },
  {
   "cell_type": "code",
   "execution_count": 11,
   "id": "74a344f1",
   "metadata": {},
   "outputs": [
    {
     "name": "stdout",
     "output_type": "stream",
     "text": [
      "Epoch [100/1000], Loss: 0.2757\n",
      "Epoch [200/1000], Loss: 0.2669\n",
      "Epoch [300/1000], Loss: 0.2609\n",
      "Epoch [400/1000], Loss: 0.2574\n",
      "Epoch [500/1000], Loss: 0.2553\n",
      "Epoch [600/1000], Loss: 0.2542\n",
      "Epoch [700/1000], Loss: 0.2535\n",
      "Epoch [800/1000], Loss: 0.2530\n",
      "Epoch [900/1000], Loss: 0.2527\n",
      "Epoch [1000/1000], Loss: 0.2524\n",
      "Predictions:\n",
      "[[0.4286887 ]\n",
      " [0.4900149 ]\n",
      " [0.50322554]\n",
      " [0.56467559]]\n"
     ]
    }
   ],
   "source": [
    "# XOR problem\n",
    "inputs = np.array([[0, 0], [0, 1], [1, 0], [1, 1]])\n",
    "targets = np.array([[0], [1], [1], [0]])\n",
    "\n",
    "# Create and train the MLP\n",
    "mlp = MLP(input_size=2, hidden_size=4, output_size=1)\n",
    "mlp.train(inputs, targets, epochs=1000, learning_rate=0.01)\n",
    "\n",
    "# Make predictions\n",
    "predictions = mlp.predict(inputs)\n",
    "print(\"Predictions:\")\n",
    "print(predictions)"
   ]
  },
  {
   "cell_type": "code",
   "execution_count": null,
   "id": "c8eb860e",
   "metadata": {},
   "outputs": [],
   "source": []
  }
 ],
 "metadata": {
  "kernelspec": {
   "display_name": "Python 3 (ipykernel)",
   "language": "python",
   "name": "python3"
  },
  "language_info": {
   "codemirror_mode": {
    "name": "ipython",
    "version": 3
   },
   "file_extension": ".py",
   "mimetype": "text/x-python",
   "name": "python",
   "nbconvert_exporter": "python",
   "pygments_lexer": "ipython3",
   "version": "3.11.4"
  }
 },
 "nbformat": 4,
 "nbformat_minor": 5
}
