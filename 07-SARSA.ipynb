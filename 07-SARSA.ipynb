{
 "cells": [
  {
   "cell_type": "code",
   "execution_count": 1,
   "id": "d75a6e12",
   "metadata": {},
   "outputs": [],
   "source": [
    "import numpy as np\n",
    "import matplotlib.pyplot as plt\n"
   ]
  },
  {
   "cell_type": "code",
   "execution_count": 2,
   "id": "b8d43443",
   "metadata": {},
   "outputs": [],
   "source": [
    "# Define the environment\n",
    "num_states = 6\n",
    "num_actions = 2\n",
    "q_table = np.zeros((num_states, num_actions))\n",
    "\n",
    "# Define the reward matrix\n",
    "rewards = np.array([\n",
    "    [-1, -1],\n",
    "    [-1, -1],\n",
    "    [-1, -1],\n",
    "    [-1, -1],\n",
    "    [-1, -1],\n",
    "    [-1, 10]  # Goal state\n",
    "])\n",
    "\n",
    "# Define the transition matrix\n",
    "transitions = np.array([\n",
    "    [1, 0],  # 0\n",
    "    [2, 1],  # 1\n",
    "    [3, 2],  # 2\n",
    "    [4, 3],  # 3\n",
    "    [5, 4],  # 4\n",
    "    [5, 5]   # 5 (goal state)\n",
    "])\n"
   ]
  },
  {
   "cell_type": "code",
   "execution_count": 3,
   "id": "b2e8175a",
   "metadata": {},
   "outputs": [],
   "source": [
    "# SARSA algorithm\n",
    "epsilon = 0.1  # Exploration-exploitation trade-off\n",
    "alpha = 0.1    # Learning rate\n",
    "gamma = 0.9    # Discount factor\n",
    "\n",
    "def select_action(state):\n",
    "    if np.random.rand() < epsilon:\n",
    "        return np.random.choice(num_actions)\n",
    "    else:\n",
    "        return np.argmax(q_table[state, :])\n",
    "\n",
    "num_episodes = 1000"
   ]
  },
  {
   "cell_type": "code",
   "execution_count": 4,
   "id": "76143e90",
   "metadata": {},
   "outputs": [],
   "source": [
    "for episode in range(num_episodes):\n",
    "    state = 0  # Initial state\n",
    "    action = select_action(state)\n",
    "\n",
    "    while state != 5:  # Continue until the goal state is reached\n",
    "        next_state, reward = transitions[state, action], rewards[state, action]\n",
    "        next_action = select_action(next_state)\n",
    "\n",
    "        # SARSA update rule\n",
    "        q_table[state, action] = q_table[state, action] + alpha * (reward + gamma * q_table[next_state, next_action] - q_table[state, action])\n",
    "\n",
    "        state = next_state\n",
    "        action = next_action\n"
   ]
  },
  {
   "cell_type": "code",
   "execution_count": 5,
   "id": "8796a699",
   "metadata": {},
   "outputs": [
    {
     "data": {
      "text/plain": [
       "array([[-4.22253515, -4.78426572],\n",
       "       [-3.59266466, -4.20137798],\n",
       "       [-2.78914497, -3.50760347],\n",
       "       [-1.92245805, -2.76866793],\n",
       "       [-1.        , -1.92944949],\n",
       "       [ 0.        ,  0.        ]])"
      ]
     },
     "execution_count": 5,
     "metadata": {},
     "output_type": "execute_result"
    }
   ],
   "source": [
    "# Display the learned Q-table\n",
    "q_table"
   ]
  },
  {
   "cell_type": "code",
   "execution_count": null,
   "id": "13f3ea8d",
   "metadata": {},
   "outputs": [],
   "source": []
  }
 ],
 "metadata": {
  "kernelspec": {
   "display_name": "Python 3 (ipykernel)",
   "language": "python",
   "name": "python3"
  },
  "language_info": {
   "codemirror_mode": {
    "name": "ipython",
    "version": 3
   },
   "file_extension": ".py",
   "mimetype": "text/x-python",
   "name": "python",
   "nbconvert_exporter": "python",
   "pygments_lexer": "ipython3",
   "version": "3.11.4"
  }
 },
 "nbformat": 4,
 "nbformat_minor": 5
}
